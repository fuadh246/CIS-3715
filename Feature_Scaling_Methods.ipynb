{
 "cells": [
  {
   "cell_type": "code",
   "execution_count": 2,
   "metadata": {},
   "outputs": [],
   "source": [
    "import pandas as pd\n",
    "import numpy as np\n",
    "from sklearn.preprocessing import OneHotEncoder, LabelEncoder\n",
    "import matplotlib.pyplot as plt"
   ]
  },
  {
   "cell_type": "code",
   "execution_count": 3,
   "metadata": {},
   "outputs": [],
   "source": [
    "df = pd.read_csv('data/housing.csv')"
   ]
  },
  {
   "cell_type": "code",
   "execution_count": 4,
   "metadata": {},
   "outputs": [
    {
     "data": {
      "text/plain": [
       "longitude               0\n",
       "latitude                0\n",
       "housing_median_age      0\n",
       "total_rooms             0\n",
       "total_bedrooms        207\n",
       "population              0\n",
       "households              0\n",
       "median_income           0\n",
       "median_house_value      0\n",
       "ocean_proximity         0\n",
       "dtype: int64"
      ]
     },
     "execution_count": 4,
     "metadata": {},
     "output_type": "execute_result"
    }
   ],
   "source": [
    "df.isnull().sum()"
   ]
  },
  {
   "cell_type": "code",
   "execution_count": 5,
   "metadata": {},
   "outputs": [
    {
     "data": {
      "text/plain": [
       "longitude             0.000000\n",
       "latitude              0.000000\n",
       "housing_median_age    0.000000\n",
       "total_rooms           0.000000\n",
       "total_bedrooms        0.010029\n",
       "population            0.000000\n",
       "households            0.000000\n",
       "median_income         0.000000\n",
       "median_house_value    0.000000\n",
       "ocean_proximity       0.000000\n",
       "dtype: float64"
      ]
     },
     "execution_count": 5,
     "metadata": {},
     "output_type": "execute_result"
    }
   ],
   "source": [
    "df.isnull().sum()/df.shape[0]"
   ]
  },
  {
   "cell_type": "code",
   "execution_count": 6,
   "metadata": {},
   "outputs": [],
   "source": [
    "df['total_bedrooms'] = df['total_bedrooms'].fillna(df['total_bedrooms'].mean())"
   ]
  },
  {
   "cell_type": "code",
   "execution_count": 7,
   "metadata": {},
   "outputs": [
    {
     "data": {
      "text/plain": [
       "longitude             0\n",
       "latitude              0\n",
       "housing_median_age    0\n",
       "total_rooms           0\n",
       "total_bedrooms        0\n",
       "population            0\n",
       "households            0\n",
       "median_income         0\n",
       "median_house_value    0\n",
       "ocean_proximity       0\n",
       "dtype: int64"
      ]
     },
     "execution_count": 7,
     "metadata": {},
     "output_type": "execute_result"
    }
   ],
   "source": [
    "df.isnull().sum()"
   ]
  },
  {
   "cell_type": "code",
   "execution_count": 8,
   "metadata": {},
   "outputs": [
    {
     "data": {
      "text/plain": [
       "(array([3.820e+02, 5.470e+02, 1.040e+03, 1.736e+03, 2.460e+03, 2.355e+03,\n",
       "        2.237e+03, 1.879e+03, 1.671e+03, 1.204e+03, 9.060e+02, 7.980e+02,\n",
       "        6.100e+02, 4.500e+02, 3.360e+02, 2.890e+02, 2.500e+02, 1.810e+02,\n",
       "        1.760e+02, 1.500e+02, 1.180e+02, 1.150e+02, 7.300e+01, 8.900e+01,\n",
       "        7.100e+01, 5.800e+01, 4.700e+01, 4.500e+01, 3.600e+01, 3.000e+01,\n",
       "        2.800e+01, 2.500e+01, 1.300e+01, 1.900e+01, 1.900e+01, 1.800e+01,\n",
       "        8.000e+00, 1.400e+01, 2.000e+01, 1.300e+01, 1.500e+01, 9.000e+00,\n",
       "        8.000e+00, 8.000e+00, 8.000e+00, 4.000e+00, 7.000e+00, 5.000e+00,\n",
       "        2.000e+00, 4.000e+00, 4.000e+00, 3.000e+00, 3.000e+00, 3.000e+00,\n",
       "        4.000e+00, 1.000e+00, 2.000e+00, 1.000e+00, 1.000e+00, 1.000e+00,\n",
       "        2.000e+00, 3.000e+00, 1.000e+00, 3.000e+00, 4.000e+00, 0.000e+00,\n",
       "        0.000e+00, 1.000e+00, 2.000e+00, 2.000e+00, 1.000e+00, 1.000e+00,\n",
       "        0.000e+00, 0.000e+00, 2.000e+00, 0.000e+00, 2.000e+00, 1.000e+00,\n",
       "        1.000e+00, 0.000e+00, 0.000e+00, 0.000e+00, 1.000e+00, 0.000e+00,\n",
       "        2.000e+00, 0.000e+00, 0.000e+00, 0.000e+00, 0.000e+00, 0.000e+00,\n",
       "        0.000e+00, 0.000e+00, 0.000e+00, 0.000e+00, 0.000e+00, 0.000e+00,\n",
       "        1.000e+00, 0.000e+00, 0.000e+00, 1.000e+00]),\n",
       " array([1.00000e+00, 6.54400e+01, 1.29880e+02, 1.94320e+02, 2.58760e+02,\n",
       "        3.23200e+02, 3.87640e+02, 4.52080e+02, 5.16520e+02, 5.80960e+02,\n",
       "        6.45400e+02, 7.09840e+02, 7.74280e+02, 8.38720e+02, 9.03160e+02,\n",
       "        9.67600e+02, 1.03204e+03, 1.09648e+03, 1.16092e+03, 1.22536e+03,\n",
       "        1.28980e+03, 1.35424e+03, 1.41868e+03, 1.48312e+03, 1.54756e+03,\n",
       "        1.61200e+03, 1.67644e+03, 1.74088e+03, 1.80532e+03, 1.86976e+03,\n",
       "        1.93420e+03, 1.99864e+03, 2.06308e+03, 2.12752e+03, 2.19196e+03,\n",
       "        2.25640e+03, 2.32084e+03, 2.38528e+03, 2.44972e+03, 2.51416e+03,\n",
       "        2.57860e+03, 2.64304e+03, 2.70748e+03, 2.77192e+03, 2.83636e+03,\n",
       "        2.90080e+03, 2.96524e+03, 3.02968e+03, 3.09412e+03, 3.15856e+03,\n",
       "        3.22300e+03, 3.28744e+03, 3.35188e+03, 3.41632e+03, 3.48076e+03,\n",
       "        3.54520e+03, 3.60964e+03, 3.67408e+03, 3.73852e+03, 3.80296e+03,\n",
       "        3.86740e+03, 3.93184e+03, 3.99628e+03, 4.06072e+03, 4.12516e+03,\n",
       "        4.18960e+03, 4.25404e+03, 4.31848e+03, 4.38292e+03, 4.44736e+03,\n",
       "        4.51180e+03, 4.57624e+03, 4.64068e+03, 4.70512e+03, 4.76956e+03,\n",
       "        4.83400e+03, 4.89844e+03, 4.96288e+03, 5.02732e+03, 5.09176e+03,\n",
       "        5.15620e+03, 5.22064e+03, 5.28508e+03, 5.34952e+03, 5.41396e+03,\n",
       "        5.47840e+03, 5.54284e+03, 5.60728e+03, 5.67172e+03, 5.73616e+03,\n",
       "        5.80060e+03, 5.86504e+03, 5.92948e+03, 5.99392e+03, 6.05836e+03,\n",
       "        6.12280e+03, 6.18724e+03, 6.25168e+03, 6.31612e+03, 6.38056e+03,\n",
       "        6.44500e+03]),\n",
       " <BarContainer object of 100 artists>)"
      ]
     },
     "execution_count": 8,
     "metadata": {},
     "output_type": "execute_result"
    },
    {
     "data": {
      "image/png": "[encoded data removed]",
      "text/plain": [
       "<Figure size 640x480 with 1 Axes>"
      ]
     },
     "metadata": {},
     "output_type": "display_data"
    }
   ],
   "source": [
    "plt.hist(df['total_bedrooms'].values, 100)"
   ]
  },
  {
   "cell_type": "code",
   "execution_count": 9,
   "metadata": {},
   "outputs": [
    {
     "name": "stderr",
     "output_type": "stream",
     "text": [
      "/Users/fuadhassan/anaconda3/lib/python3.10/site-packages/sklearn/preprocessing/_encoders.py:828: FutureWarning: `sparse` was renamed to `sparse_output` in version 1.2 and will be removed in 1.4. `sparse_output` is ignored unless you leave `sparse` to its default value.\n",
      "  warnings.warn(\n"
     ]
    }
   ],
   "source": [
    "onehotencoder = OneHotEncoder(sparse=False)\n",
    "result = onehotencoder.fit_transform(df[['ocean_proximity']])"
   ]
  },
  {
   "cell_type": "code",
   "execution_count": 10,
   "metadata": {},
   "outputs": [],
   "source": [
    "labelencoder = LabelEncoder()\n",
    "df['ocean_proximity'] = labelencoder.fit_transform(df['ocean_proximity'])"
   ]
  },
  {
   "cell_type": "code",
   "execution_count": 11,
   "metadata": {},
   "outputs": [
    {
     "data": {
      "text/plain": [
       "<Axes: >"
      ]
     },
     "execution_count": 11,
     "metadata": {},
     "output_type": "execute_result"
    },
    {
     "data": {
      "image/png": "[encoded data removed]",
      "text/plain": [
       "<Figure size 640x480 with 1 Axes>"
      ]
     },
     "metadata": {},
     "output_type": "display_data"
    }
   ],
   "source": [
    "df['ocean_proximity'].hist()"
   ]
  },
  {
   "cell_type": "markdown",
   "metadata": {},
   "source": [
    "# Feature Scaling Methods\n",
    "\n",
    "• Min-max normalization\n",
    "\n",
    "• Sensitive to outliers\n"
   ]
  },
  {
   "cell_type": "code",
   "execution_count": 12,
   "metadata": {},
   "outputs": [],
   "source": [
    "X = df.values[:, 5:9].astype(dtype=np.float32)"
   ]
  },
  {
   "cell_type": "code",
   "execution_count": 13,
   "metadata": {},
   "outputs": [
    {
     "data": {
      "text/plain": [
       "(20640, 4)"
      ]
     },
     "execution_count": 13,
     "metadata": {},
     "output_type": "execute_result"
    }
   ],
   "source": [
    "X.shape"
   ]
  },
  {
   "cell_type": "code",
   "execution_count": 14,
   "metadata": {},
   "outputs": [
    {
     "name": "stdout",
     "output_type": "stream",
     "text": [
      "min : [3.0000e+00 1.0000e+00 4.9990e-01 1.4999e+04] \n",
      "max : [3.56820e+04 6.08200e+03 1.50001e+01 5.00001e+05]\n"
     ]
    }
   ],
   "source": [
    "x_min = X.min(axis=0)\n",
    "x_max = X.max(axis=0)\n",
    "print(f'min : {x_min} \\nmax : {x_max}')"
   ]
  },
  {
   "cell_type": "code",
   "execution_count": 15,
   "metadata": {},
   "outputs": [],
   "source": [
    "X = (X-x_min)/(x_max-x_min)"
   ]
  },
  {
   "cell_type": "code",
   "execution_count": 16,
   "metadata": {},
   "outputs": [
    {
     "name": "stdout",
     "output_type": "stream",
     "text": [
      "scaling data: \n",
      "[[0.00894083 0.02055583 0.53966844 0.9022664 ]\n",
      " [0.06721041 0.18697582 0.53802705 0.7082466 ]\n",
      " [0.01381765 0.02894261 0.46602806 0.6950507 ]\n",
      " ...\n",
      " [0.0281398  0.07104095 0.08276438 0.15938285]\n",
      " [0.02068444 0.05722743 0.09429525 0.1437128 ]\n",
      " [0.03879033 0.08699227 0.13025339 0.15340349]]\n"
     ]
    }
   ],
   "source": [
    "print(f'scaling data: ')\n",
    "print(X)"
   ]
  },
  {
   "cell_type": "markdown",
   "metadata": {},
   "source": [
    "• Z-Score normalization (Standardization)\n",
    "\n",
    "• Good for normal distribution"
   ]
  },
  {
   "cell_type": "code",
   "execution_count": 17,
   "metadata": {},
   "outputs": [
    {
     "data": {
      "text/plain": [
       "array([[3.2200e+02, 1.2600e+02, 8.3252e+00, 4.5260e+05],\n",
       "       [2.4010e+03, 1.1380e+03, 8.3014e+00, 3.5850e+05],\n",
       "       [4.9600e+02, 1.7700e+02, 7.2574e+00, 3.5210e+05],\n",
       "       ...,\n",
       "       [1.0070e+03, 4.3300e+02, 1.7000e+00, 9.2300e+04],\n",
       "       [7.4100e+02, 3.4900e+02, 1.8672e+00, 8.4700e+04],\n",
       "       [1.3870e+03, 5.3000e+02, 2.3886e+00, 8.9400e+04]], dtype=float32)"
      ]
     },
     "execution_count": 17,
     "metadata": {},
     "output_type": "execute_result"
    }
   ],
   "source": [
    "X = df.values[:, 5:9].astype(dtype=np.float32)\n",
    "X"
   ]
  },
  {
   "cell_type": "code",
   "execution_count": 18,
   "metadata": {},
   "outputs": [],
   "source": [
    "x_mean = np.mean(X, axis=0)\n",
    "x_std = np.std(X, axis=0)"
   ]
  },
  {
   "cell_type": "code",
   "execution_count": 19,
   "metadata": {},
   "outputs": [],
   "source": [
    "X = (X-x_mean)/x_std"
   ]
  },
  {
   "cell_type": "code",
   "execution_count": 20,
   "metadata": {},
   "outputs": [
    {
     "data": {
      "text/plain": [
       "array([[-0.97442853, -0.97703284,  2.3447657 ,  2.1296315 ],\n",
       "       [ 0.86143893,  1.669961  ,  2.332238  ,  1.3141562 ],\n",
       "       [-0.8207773 , -0.8436369 ,  1.7826993 ,  1.2586935 ],\n",
       "       ...,\n",
       "       [-0.36953714, -0.1740416 , -1.1425933 , -0.9927465 ],\n",
       "       [-0.6044293 , -0.39375255, -1.0545828 , -1.0586084 ],\n",
       "       [-0.03397696,  0.07967223, -0.78012943, -1.0178779 ]],\n",
       "      dtype=float32)"
      ]
     },
     "execution_count": 20,
     "metadata": {},
     "output_type": "execute_result"
    }
   ],
   "source": [
    "X"
   ]
  },
  {
   "cell_type": "code",
   "execution_count": 21,
   "metadata": {},
   "outputs": [
    {
     "data": {
      "text/html": [
       "<div>\n",
       "<style scoped>\n",
       "    .dataframe tbody tr th:only-of-type {\n",
       "        vertical-align: middle;\n",
       "    }\n",
       "\n",
       "    .dataframe tbody tr th {\n",
       "        vertical-align: top;\n",
       "    }\n",
       "\n",
       "    .dataframe thead th {\n",
       "        text-align: right;\n",
       "    }\n",
       "</style>\n",
       "<table border=\"1\" class=\"dataframe\">\n",
       "  <thead>\n",
       "    <tr style=\"text-align: right;\">\n",
       "      <th></th>\n",
       "      <th>Car</th>\n",
       "      <th>MPG</th>\n",
       "      <th>Cylinders</th>\n",
       "      <th>Displacement</th>\n",
       "      <th>Horsepower</th>\n",
       "      <th>Weight</th>\n",
       "      <th>Acceleration</th>\n",
       "      <th>Model</th>\n",
       "      <th>Origin</th>\n",
       "    </tr>\n",
       "  </thead>\n",
       "  <tbody>\n",
       "    <tr>\n",
       "      <th>0</th>\n",
       "      <td>Chevrolet Chevelle Malibu</td>\n",
       "      <td>18.0</td>\n",
       "      <td>8</td>\n",
       "      <td>307.0</td>\n",
       "      <td>130</td>\n",
       "      <td>3504</td>\n",
       "      <td>12.0</td>\n",
       "      <td>70</td>\n",
       "      <td>US</td>\n",
       "    </tr>\n",
       "    <tr>\n",
       "      <th>1</th>\n",
       "      <td>Buick Skylark 320</td>\n",
       "      <td>15.0</td>\n",
       "      <td>8</td>\n",
       "      <td>350.0</td>\n",
       "      <td>165</td>\n",
       "      <td>3693</td>\n",
       "      <td>11.5</td>\n",
       "      <td>70</td>\n",
       "      <td>US</td>\n",
       "    </tr>\n",
       "    <tr>\n",
       "      <th>2</th>\n",
       "      <td>Plymouth Satellite</td>\n",
       "      <td>18.0</td>\n",
       "      <td>8</td>\n",
       "      <td>318.0</td>\n",
       "      <td>150</td>\n",
       "      <td>3436</td>\n",
       "      <td>11.0</td>\n",
       "      <td>70</td>\n",
       "      <td>US</td>\n",
       "    </tr>\n",
       "    <tr>\n",
       "      <th>3</th>\n",
       "      <td>AMC Rebel SST</td>\n",
       "      <td>16.0</td>\n",
       "      <td>8</td>\n",
       "      <td>304.0</td>\n",
       "      <td>150</td>\n",
       "      <td>3433</td>\n",
       "      <td>12.0</td>\n",
       "      <td>70</td>\n",
       "      <td>US</td>\n",
       "    </tr>\n",
       "    <tr>\n",
       "      <th>4</th>\n",
       "      <td>Ford Torino</td>\n",
       "      <td>17.0</td>\n",
       "      <td>8</td>\n",
       "      <td>302.0</td>\n",
       "      <td>140</td>\n",
       "      <td>3449</td>\n",
       "      <td>10.5</td>\n",
       "      <td>70</td>\n",
       "      <td>US</td>\n",
       "    </tr>\n",
       "  </tbody>\n",
       "</table>\n",
       "</div>"
      ],
      "text/plain": [
       "                         Car   MPG  Cylinders  Displacement  Horsepower  \\\n",
       "0  Chevrolet Chevelle Malibu  18.0          8         307.0         130   \n",
       "1          Buick Skylark 320  15.0          8         350.0         165   \n",
       "2         Plymouth Satellite  18.0          8         318.0         150   \n",
       "3              AMC Rebel SST  16.0          8         304.0         150   \n",
       "4                Ford Torino  17.0          8         302.0         140   \n",
       "\n",
       "   Weight  Acceleration  Model Origin  \n",
       "0    3504          12.0     70     US  \n",
       "1    3693          11.5     70     US  \n",
       "2    3436          11.0     70     US  \n",
       "3    3433          12.0     70     US  \n",
       "4    3449          10.5     70     US  "
      ]
     },
     "execution_count": 21,
     "metadata": {},
     "output_type": "execute_result"
    }
   ],
   "source": [
    "cars = pd.read_csv('Data/cars.csv')\n",
    "cars.head()"
   ]
  },
  {
   "cell_type": "code",
   "execution_count": 22,
   "metadata": {},
   "outputs": [],
   "source": [
    "float_col = cars.select_dtypes(exclude=object)"
   ]
  },
  {
   "cell_type": "code",
   "execution_count": 23,
   "metadata": {},
   "outputs": [
    {
     "data": {
      "text/html": [
       "<div>\n",
       "<style scoped>\n",
       "    .dataframe tbody tr th:only-of-type {\n",
       "        vertical-align: middle;\n",
       "    }\n",
       "\n",
       "    .dataframe tbody tr th {\n",
       "        vertical-align: top;\n",
       "    }\n",
       "\n",
       "    .dataframe thead th {\n",
       "        text-align: right;\n",
       "    }\n",
       "</style>\n",
       "<table border=\"1\" class=\"dataframe\">\n",
       "  <thead>\n",
       "    <tr style=\"text-align: right;\">\n",
       "      <th></th>\n",
       "      <th>MPG</th>\n",
       "      <th>Cylinders</th>\n",
       "      <th>Displacement</th>\n",
       "      <th>Horsepower</th>\n",
       "      <th>Weight</th>\n",
       "      <th>Acceleration</th>\n",
       "      <th>Model</th>\n",
       "    </tr>\n",
       "  </thead>\n",
       "  <tbody>\n",
       "    <tr>\n",
       "      <th>MPG</th>\n",
       "      <td>1.000000</td>\n",
       "      <td>-0.735563</td>\n",
       "      <td>-0.764277</td>\n",
       "      <td>-0.726670</td>\n",
       "      <td>-0.787510</td>\n",
       "      <td>0.424490</td>\n",
       "      <td>0.586234</td>\n",
       "    </tr>\n",
       "    <tr>\n",
       "      <th>Cylinders</th>\n",
       "      <td>-0.735563</td>\n",
       "      <td>1.000000</td>\n",
       "      <td>0.951787</td>\n",
       "      <td>0.823467</td>\n",
       "      <td>0.895220</td>\n",
       "      <td>-0.522452</td>\n",
       "      <td>-0.360762</td>\n",
       "    </tr>\n",
       "    <tr>\n",
       "      <th>Displacement</th>\n",
       "      <td>-0.764277</td>\n",
       "      <td>0.951787</td>\n",
       "      <td>1.000000</td>\n",
       "      <td>0.873758</td>\n",
       "      <td>0.932475</td>\n",
       "      <td>-0.557984</td>\n",
       "      <td>-0.381714</td>\n",
       "    </tr>\n",
       "    <tr>\n",
       "      <th>Horsepower</th>\n",
       "      <td>-0.726670</td>\n",
       "      <td>0.823467</td>\n",
       "      <td>0.873758</td>\n",
       "      <td>1.000000</td>\n",
       "      <td>0.840811</td>\n",
       "      <td>-0.682047</td>\n",
       "      <td>-0.419929</td>\n",
       "    </tr>\n",
       "    <tr>\n",
       "      <th>Weight</th>\n",
       "      <td>-0.787510</td>\n",
       "      <td>0.895220</td>\n",
       "      <td>0.932475</td>\n",
       "      <td>0.840811</td>\n",
       "      <td>1.000000</td>\n",
       "      <td>-0.430086</td>\n",
       "      <td>-0.315389</td>\n",
       "    </tr>\n",
       "    <tr>\n",
       "      <th>Acceleration</th>\n",
       "      <td>0.424490</td>\n",
       "      <td>-0.522452</td>\n",
       "      <td>-0.557984</td>\n",
       "      <td>-0.682047</td>\n",
       "      <td>-0.430086</td>\n",
       "      <td>1.000000</td>\n",
       "      <td>0.301992</td>\n",
       "    </tr>\n",
       "    <tr>\n",
       "      <th>Model</th>\n",
       "      <td>0.586234</td>\n",
       "      <td>-0.360762</td>\n",
       "      <td>-0.381714</td>\n",
       "      <td>-0.419929</td>\n",
       "      <td>-0.315389</td>\n",
       "      <td>0.301992</td>\n",
       "      <td>1.000000</td>\n",
       "    </tr>\n",
       "  </tbody>\n",
       "</table>\n",
       "</div>"
      ],
      "text/plain": [
       "                   MPG  Cylinders  Displacement  Horsepower    Weight  \\\n",
       "MPG           1.000000  -0.735563     -0.764277   -0.726670 -0.787510   \n",
       "Cylinders    -0.735563   1.000000      0.951787    0.823467  0.895220   \n",
       "Displacement -0.764277   0.951787      1.000000    0.873758  0.932475   \n",
       "Horsepower   -0.726670   0.823467      0.873758    1.000000  0.840811   \n",
       "Weight       -0.787510   0.895220      0.932475    0.840811  1.000000   \n",
       "Acceleration  0.424490  -0.522452     -0.557984   -0.682047 -0.430086   \n",
       "Model         0.586234  -0.360762     -0.381714   -0.419929 -0.315389   \n",
       "\n",
       "              Acceleration     Model  \n",
       "MPG               0.424490  0.586234  \n",
       "Cylinders        -0.522452 -0.360762  \n",
       "Displacement     -0.557984 -0.381714  \n",
       "Horsepower       -0.682047 -0.419929  \n",
       "Weight           -0.430086 -0.315389  \n",
       "Acceleration      1.000000  0.301992  \n",
       "Model             0.301992  1.000000  "
      ]
     },
     "execution_count": 23,
     "metadata": {},
     "output_type": "execute_result"
    }
   ],
   "source": [
    "cars_corr = float_col.corr()\n",
    "cars_corr"
   ]
  },
  {
   "cell_type": "code",
   "execution_count": 24,
   "metadata": {},
   "outputs": [
    {
     "data": {
      "text/html": [
       "<style type=\"text/css\">\n",
       "#T_65a9e_row0_col0, #T_65a9e_row1_col1, #T_65a9e_row2_col2, #T_65a9e_row3_col3, #T_65a9e_row4_col4, #T_65a9e_row5_col5, #T_65a9e_row6_col6 {\n",
       "  background-color: #023858;\n",
       "  color: #f1f1f1;\n",
       "}\n",
       "#T_65a9e_row0_col1, #T_65a9e_row0_col2, #T_65a9e_row0_col3, #T_65a9e_row0_col4, #T_65a9e_row3_col5, #T_65a9e_row3_col6, #T_65a9e_row4_col0 {\n",
       "  background-color: #fff7fb;\n",
       "  color: #000000;\n",
       "}\n",
       "#T_65a9e_row0_col5 {\n",
       "  background-color: #2987bc;\n",
       "  color: #f1f1f1;\n",
       "}\n",
       "#T_65a9e_row0_col6 {\n",
       "  background-color: #157ab5;\n",
       "  color: #f1f1f1;\n",
       "}\n",
       "#T_65a9e_row1_col0 {\n",
       "  background-color: #fbf3f9;\n",
       "  color: #000000;\n",
       "}\n",
       "#T_65a9e_row1_col2 {\n",
       "  background-color: #023e62;\n",
       "  color: #f1f1f1;\n",
       "}\n",
       "#T_65a9e_row1_col3, #T_65a9e_row3_col1 {\n",
       "  background-color: #045483;\n",
       "  color: #f1f1f1;\n",
       "}\n",
       "#T_65a9e_row1_col4, #T_65a9e_row4_col1 {\n",
       "  background-color: #034871;\n",
       "  color: #f1f1f1;\n",
       "}\n",
       "#T_65a9e_row1_col5 {\n",
       "  background-color: #f1ebf4;\n",
       "  color: #000000;\n",
       "}\n",
       "#T_65a9e_row1_col6 {\n",
       "  background-color: #f9f2f8;\n",
       "  color: #000000;\n",
       "}\n",
       "#T_65a9e_row2_col0 {\n",
       "  background-color: #fdf5fa;\n",
       "  color: #000000;\n",
       "}\n",
       "#T_65a9e_row2_col1 {\n",
       "  background-color: #023f64;\n",
       "  color: #f1f1f1;\n",
       "}\n",
       "#T_65a9e_row2_col3, #T_65a9e_row3_col2 {\n",
       "  background-color: #034b76;\n",
       "  color: #f1f1f1;\n",
       "}\n",
       "#T_65a9e_row2_col4, #T_65a9e_row4_col2 {\n",
       "  background-color: #034267;\n",
       "  color: #f1f1f1;\n",
       "}\n",
       "#T_65a9e_row2_col5, #T_65a9e_row4_col6 {\n",
       "  background-color: #f4eef6;\n",
       "  color: #000000;\n",
       "}\n",
       "#T_65a9e_row2_col6, #T_65a9e_row5_col3 {\n",
       "  background-color: #fbf4f9;\n",
       "  color: #000000;\n",
       "}\n",
       "#T_65a9e_row3_col0 {\n",
       "  background-color: #faf3f9;\n",
       "  color: #000000;\n",
       "}\n",
       "#T_65a9e_row3_col4 {\n",
       "  background-color: #034f7d;\n",
       "  color: #f1f1f1;\n",
       "}\n",
       "#T_65a9e_row4_col3 {\n",
       "  background-color: #03517e;\n",
       "  color: #f1f1f1;\n",
       "}\n",
       "#T_65a9e_row4_col5 {\n",
       "  background-color: #e7e3f0;\n",
       "  color: #000000;\n",
       "}\n",
       "#T_65a9e_row5_col0 {\n",
       "  background-color: #2182b9;\n",
       "  color: #f1f1f1;\n",
       "}\n",
       "#T_65a9e_row5_col1 {\n",
       "  background-color: #ede7f2;\n",
       "  color: #000000;\n",
       "}\n",
       "#T_65a9e_row5_col2 {\n",
       "  background-color: #eee8f3;\n",
       "  color: #000000;\n",
       "}\n",
       "#T_65a9e_row5_col4 {\n",
       "  background-color: #dbdaeb;\n",
       "  color: #000000;\n",
       "}\n",
       "#T_65a9e_row5_col6 {\n",
       "  background-color: #6fa7ce;\n",
       "  color: #f1f1f1;\n",
       "}\n",
       "#T_65a9e_row6_col0 {\n",
       "  background-color: #056dab;\n",
       "  color: #f1f1f1;\n",
       "}\n",
       "#T_65a9e_row6_col1, #T_65a9e_row6_col2 {\n",
       "  background-color: #d8d7e9;\n",
       "  color: #000000;\n",
       "}\n",
       "#T_65a9e_row6_col3 {\n",
       "  background-color: #e0deed;\n",
       "  color: #000000;\n",
       "}\n",
       "#T_65a9e_row6_col4 {\n",
       "  background-color: #cccfe5;\n",
       "  color: #000000;\n",
       "}\n",
       "#T_65a9e_row6_col5 {\n",
       "  background-color: #4a98c5;\n",
       "  color: #f1f1f1;\n",
       "}\n",
       "</style>\n",
       "<table id=\"T_65a9e\">\n",
       "  <thead>\n",
       "    <tr>\n",
       "      <th class=\"blank level0\" >&nbsp;</th>\n",
       "      <th id=\"T_65a9e_level0_col0\" class=\"col_heading level0 col0\" >MPG</th>\n",
       "      <th id=\"T_65a9e_level0_col1\" class=\"col_heading level0 col1\" >Cylinders</th>\n",
       "      <th id=\"T_65a9e_level0_col2\" class=\"col_heading level0 col2\" >Displacement</th>\n",
       "      <th id=\"T_65a9e_level0_col3\" class=\"col_heading level0 col3\" >Horsepower</th>\n",
       "      <th id=\"T_65a9e_level0_col4\" class=\"col_heading level0 col4\" >Weight</th>\n",
       "      <th id=\"T_65a9e_level0_col5\" class=\"col_heading level0 col5\" >Acceleration</th>\n",
       "      <th id=\"T_65a9e_level0_col6\" class=\"col_heading level0 col6\" >Model</th>\n",
       "    </tr>\n",
       "  </thead>\n",
       "  <tbody>\n",
       "    <tr>\n",
       "      <th id=\"T_65a9e_level0_row0\" class=\"row_heading level0 row0\" >MPG</th>\n",
       "      <td id=\"T_65a9e_row0_col0\" class=\"data row0 col0\" >1.000000</td>\n",
       "      <td id=\"T_65a9e_row0_col1\" class=\"data row0 col1\" >-0.735563</td>\n",
       "      <td id=\"T_65a9e_row0_col2\" class=\"data row0 col2\" >-0.764277</td>\n",
       "      <td id=\"T_65a9e_row0_col3\" class=\"data row0 col3\" >-0.726670</td>\n",
       "      <td id=\"T_65a9e_row0_col4\" class=\"data row0 col4\" >-0.787510</td>\n",
       "      <td id=\"T_65a9e_row0_col5\" class=\"data row0 col5\" >0.424490</td>\n",
       "      <td id=\"T_65a9e_row0_col6\" class=\"data row0 col6\" >0.586234</td>\n",
       "    </tr>\n",
       "    <tr>\n",
       "      <th id=\"T_65a9e_level0_row1\" class=\"row_heading level0 row1\" >Cylinders</th>\n",
       "      <td id=\"T_65a9e_row1_col0\" class=\"data row1 col0\" >-0.735563</td>\n",
       "      <td id=\"T_65a9e_row1_col1\" class=\"data row1 col1\" >1.000000</td>\n",
       "      <td id=\"T_65a9e_row1_col2\" class=\"data row1 col2\" >0.951787</td>\n",
       "      <td id=\"T_65a9e_row1_col3\" class=\"data row1 col3\" >0.823467</td>\n",
       "      <td id=\"T_65a9e_row1_col4\" class=\"data row1 col4\" >0.895220</td>\n",
       "      <td id=\"T_65a9e_row1_col5\" class=\"data row1 col5\" >-0.522452</td>\n",
       "      <td id=\"T_65a9e_row1_col6\" class=\"data row1 col6\" >-0.360762</td>\n",
       "    </tr>\n",
       "    <tr>\n",
       "      <th id=\"T_65a9e_level0_row2\" class=\"row_heading level0 row2\" >Displacement</th>\n",
       "      <td id=\"T_65a9e_row2_col0\" class=\"data row2 col0\" >-0.764277</td>\n",
       "      <td id=\"T_65a9e_row2_col1\" class=\"data row2 col1\" >0.951787</td>\n",
       "      <td id=\"T_65a9e_row2_col2\" class=\"data row2 col2\" >1.000000</td>\n",
       "      <td id=\"T_65a9e_row2_col3\" class=\"data row2 col3\" >0.873758</td>\n",
       "      <td id=\"T_65a9e_row2_col4\" class=\"data row2 col4\" >0.932475</td>\n",
       "      <td id=\"T_65a9e_row2_col5\" class=\"data row2 col5\" >-0.557984</td>\n",
       "      <td id=\"T_65a9e_row2_col6\" class=\"data row2 col6\" >-0.381714</td>\n",
       "    </tr>\n",
       "    <tr>\n",
       "      <th id=\"T_65a9e_level0_row3\" class=\"row_heading level0 row3\" >Horsepower</th>\n",
       "      <td id=\"T_65a9e_row3_col0\" class=\"data row3 col0\" >-0.726670</td>\n",
       "      <td id=\"T_65a9e_row3_col1\" class=\"data row3 col1\" >0.823467</td>\n",
       "      <td id=\"T_65a9e_row3_col2\" class=\"data row3 col2\" >0.873758</td>\n",
       "      <td id=\"T_65a9e_row3_col3\" class=\"data row3 col3\" >1.000000</td>\n",
       "      <td id=\"T_65a9e_row3_col4\" class=\"data row3 col4\" >0.840811</td>\n",
       "      <td id=\"T_65a9e_row3_col5\" class=\"data row3 col5\" >-0.682047</td>\n",
       "      <td id=\"T_65a9e_row3_col6\" class=\"data row3 col6\" >-0.419929</td>\n",
       "    </tr>\n",
       "    <tr>\n",
       "      <th id=\"T_65a9e_level0_row4\" class=\"row_heading level0 row4\" >Weight</th>\n",
       "      <td id=\"T_65a9e_row4_col0\" class=\"data row4 col0\" >-0.787510</td>\n",
       "      <td id=\"T_65a9e_row4_col1\" class=\"data row4 col1\" >0.895220</td>\n",
       "      <td id=\"T_65a9e_row4_col2\" class=\"data row4 col2\" >0.932475</td>\n",
       "      <td id=\"T_65a9e_row4_col3\" class=\"data row4 col3\" >0.840811</td>\n",
       "      <td id=\"T_65a9e_row4_col4\" class=\"data row4 col4\" >1.000000</td>\n",
       "      <td id=\"T_65a9e_row4_col5\" class=\"data row4 col5\" >-0.430086</td>\n",
       "      <td id=\"T_65a9e_row4_col6\" class=\"data row4 col6\" >-0.315389</td>\n",
       "    </tr>\n",
       "    <tr>\n",
       "      <th id=\"T_65a9e_level0_row5\" class=\"row_heading level0 row5\" >Acceleration</th>\n",
       "      <td id=\"T_65a9e_row5_col0\" class=\"data row5 col0\" >0.424490</td>\n",
       "      <td id=\"T_65a9e_row5_col1\" class=\"data row5 col1\" >-0.522452</td>\n",
       "      <td id=\"T_65a9e_row5_col2\" class=\"data row5 col2\" >-0.557984</td>\n",
       "      <td id=\"T_65a9e_row5_col3\" class=\"data row5 col3\" >-0.682047</td>\n",
       "      <td id=\"T_65a9e_row5_col4\" class=\"data row5 col4\" >-0.430086</td>\n",
       "      <td id=\"T_65a9e_row5_col5\" class=\"data row5 col5\" >1.000000</td>\n",
       "      <td id=\"T_65a9e_row5_col6\" class=\"data row5 col6\" >0.301992</td>\n",
       "    </tr>\n",
       "    <tr>\n",
       "      <th id=\"T_65a9e_level0_row6\" class=\"row_heading level0 row6\" >Model</th>\n",
       "      <td id=\"T_65a9e_row6_col0\" class=\"data row6 col0\" >0.586234</td>\n",
       "      <td id=\"T_65a9e_row6_col1\" class=\"data row6 col1\" >-0.360762</td>\n",
       "      <td id=\"T_65a9e_row6_col2\" class=\"data row6 col2\" >-0.381714</td>\n",
       "      <td id=\"T_65a9e_row6_col3\" class=\"data row6 col3\" >-0.419929</td>\n",
       "      <td id=\"T_65a9e_row6_col4\" class=\"data row6 col4\" >-0.315389</td>\n",
       "      <td id=\"T_65a9e_row6_col5\" class=\"data row6 col5\" >0.301992</td>\n",
       "      <td id=\"T_65a9e_row6_col6\" class=\"data row6 col6\" >1.000000</td>\n",
       "    </tr>\n",
       "  </tbody>\n",
       "</table>\n"
      ],
      "text/plain": [
       "<pandas.io.formats.style.Styler at 0x128fe30a0>"
      ]
     },
     "execution_count": 24,
     "metadata": {},
     "output_type": "execute_result"
    }
   ],
   "source": [
    "cars_corr.style.background_gradient()"
   ]
  },
  {
   "cell_type": "code",
   "execution_count": 38,
   "metadata": {},
   "outputs": [
    {
     "data": {
      "image/png": "[encoded data removed]",
      "text/plain": [
       "<Figure size 640x480 with 1 Axes>"
      ]
     },
     "metadata": {},
     "output_type": "display_data"
    }
   ],
   "source": [
    "cars['Origin'].value_counts().plot(kind='bar')\n",
    "plt.show()"
   ]
  },
  {
   "cell_type": "code",
   "execution_count": null,
   "metadata": {},
   "outputs": [],
   "source": []
  }
 ],
 "metadata": {
  "kernelspec": {
   "display_name": "base",
   "language": "python",
   "name": "python3"
  },
  "language_info": {
   "codemirror_mode": {
    "name": "ipython",
    "version": 3
   },
   "file_extension": ".py",
   "mimetype": "text/x-python",
   "name": "python",
   "nbconvert_exporter": "python",
   "pygments_lexer": "ipython3",
   "version": "3.10.13"
  }
 },
 "nbformat": 4,
 "nbformat_minor": 2
}
